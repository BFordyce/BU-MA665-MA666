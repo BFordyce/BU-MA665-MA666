{
 "cells": [
  {
   "cell_type": "markdown",
   "metadata": {},
   "source": [
    "### Load in data, and get bearings"
   ]
  },
  {
   "cell_type": "code",
   "execution_count": 1,
   "metadata": {},
   "outputs": [],
   "source": [
    "import numpy as np\n",
    "import matplotlib.pyplot as plt\n",
    "%matplotlib osx"
   ]
  },
  {
   "cell_type": "code",
   "execution_count": 2,
   "metadata": {},
   "outputs": [],
   "source": [
    "from scipy.io import loadmat       # Import function to read data.\n",
    "data = loadmat('EEG-1.mat')"
   ]
  },
  {
   "cell_type": "code",
   "execution_count": 3,
   "metadata": {},
   "outputs": [
    {
     "name": "stdout",
     "output_type": "stream",
     "text": [
      "Variable   Type    Data/Info\n",
      "----------------------------\n",
      "data       dict    n=6\n"
     ]
    }
   ],
   "source": [
    "whos"
   ]
  },
  {
   "cell_type": "code",
   "execution_count": 4,
   "metadata": {},
   "outputs": [
    {
     "data": {
      "text/plain": [
       "dict_keys(['__header__', '__version__', '__globals__', 'EEGa', 'EEGb', 't'])"
      ]
     },
     "execution_count": 4,
     "metadata": {},
     "output_type": "execute_result"
    }
   ],
   "source": [
    "data.keys()"
   ]
  },
  {
   "cell_type": "code",
   "execution_count": 5,
   "metadata": {},
   "outputs": [],
   "source": [
    "EEGa = data['EEGa']\n",
    "EEGb = data['EEGb']\n",
    "t = data['t'][0]"
   ]
  },
  {
   "cell_type": "code",
   "execution_count": 6,
   "metadata": {},
   "outputs": [
    {
     "data": {
      "text/plain": [
       "(1000, 500)"
      ]
     },
     "execution_count": 6,
     "metadata": {},
     "output_type": "execute_result"
    }
   ],
   "source": [
    "np.shape(EEGa)"
   ]
  },
  {
   "cell_type": "code",
   "execution_count": 7,
   "metadata": {},
   "outputs": [
    {
     "data": {
      "text/plain": [
       "(500,)"
      ]
     },
     "execution_count": 7,
     "metadata": {},
     "output_type": "execute_result"
    }
   ],
   "source": [
    "np.shape(t)"
   ]
  },
  {
   "cell_type": "code",
   "execution_count": 8,
   "metadata": {},
   "outputs": [
    {
     "name": "stdout",
     "output_type": "stream",
     "text": [
      "Variable   Type       Data/Info\n",
      "-------------------------------\n",
      "EEGa       ndarray    1000x500: 500000 elems, type `float64`, 4000000 bytes (3.814697265625 Mb)\n",
      "EEGb       ndarray    1000x500: 500000 elems, type `float64`, 4000000 bytes (3.814697265625 Mb)\n",
      "data       dict       n=6\n",
      "t          ndarray    500: 500 elems, type `float64`, 4000 bytes\n"
     ]
    }
   ],
   "source": [
    "whos"
   ]
  },
  {
   "cell_type": "code",
   "execution_count": 11,
   "metadata": {},
   "outputs": [
    {
     "name": "stdout",
     "output_type": "stream",
     "text": [
      "1000\n"
     ]
    }
   ],
   "source": [
    "ntrials = EEGa.shape[0]\n",
    "print(ntrials)"
   ]
  },
  {
   "cell_type": "code",
   "execution_count": 10,
   "metadata": {},
   "outputs": [],
   "source": [
    "nsamples = EEGa.shape[1]"
   ]
  },
  {
   "cell_type": "markdown",
   "metadata": {},
   "source": [
    "### Visual inspection of trials "
   ]
  },
  {
   "cell_type": "code",
   "execution_count": 12,
   "metadata": {},
   "outputs": [
    {
     "name": "stdout",
     "output_type": "stream",
     "text": [
      "[-1.85909632e-01  4.49876010e-01  1.06070801e+00 -4.71265246e-01\n",
      "  1.68669327e+00  9.38221338e-01  2.21207038e-01  4.05491276e-01\n",
      "  8.78879665e-01  5.23697825e-01 -2.35240678e+00 -9.24345879e-01\n",
      "  7.66671797e-01 -4.64254999e-01  6.25953180e-02  1.51917029e+00\n",
      " -7.76400815e-01  8.14988739e-01 -1.58137285e-01 -6.17402518e-01\n",
      "  2.07506393e-01  3.59430871e-01 -1.21455008e+00 -6.16715452e-01\n",
      " -4.81362032e-02  3.17982689e-01 -2.77459585e-01  4.14839815e-02\n",
      " -1.52257779e+00  1.31993666e+00  1.46836023e+00  1.84666100e+00\n",
      "  5.23163980e-02  2.05515379e-01  2.27994679e-01 -1.34063464e+00\n",
      "  5.61451651e-01  1.20391968e+00  1.06398658e+00  4.38748238e-01\n",
      "  1.64443736e+00 -1.54713823e+00  6.41177787e-01 -1.13319311e+00\n",
      "  1.06869889e+00  3.88678297e-01 -1.86251056e+00 -1.14074604e+00\n",
      " -4.59323117e-01  7.46220184e-01  4.40752835e-01 -7.05129357e-01\n",
      " -1.85879610e-01 -4.52021194e-02 -7.74389189e-01  1.55051475e+00\n",
      "  1.12600755e+00 -1.14703552e+00 -5.42577409e-02  8.27809465e-01\n",
      "  8.56502531e-01 -1.14366915e+00 -8.19876772e-01  1.43053099e+00\n",
      "  3.58257978e-01 -3.63287337e-01  2.95693239e-01  1.66255457e+00\n",
      " -1.81447543e+00 -5.63326663e-01  2.93117130e-01 -1.68396270e+00\n",
      " -1.62231509e-01 -1.00251701e+00 -9.48001461e-01  3.16019127e-02\n",
      "  2.21147695e-01  3.99303915e-01  1.00913940e-01  1.21148596e+00\n",
      "  7.96770791e-01  1.66308465e+00 -6.46124699e-01 -1.02735954e-01\n",
      "  3.99807249e-01  2.03571783e-01  1.26714525e+00 -4.04535735e-01\n",
      " -8.58928288e-02  3.81672240e-01 -8.10521508e-01  5.62971518e-01\n",
      " -1.50312432e-01  2.16392074e+00 -7.56258314e-01  1.78649753e+00\n",
      " -5.76044830e-01  2.70405891e-02 -1.77661427e-01 -8.66317207e-01\n",
      " -2.71389551e-01 -3.89374337e-01  1.32780017e+00  6.56102489e-01\n",
      " -6.17931971e-01  4.38460156e-01  4.96160421e-01 -2.43224802e-01\n",
      " -7.59665353e-01  2.12561928e-01 -5.29236003e-01 -7.79237099e-01\n",
      " -3.99720441e-01 -5.73857423e-01  1.68557371e-02 -3.33452422e-01\n",
      "  5.49266775e-02 -8.05679798e-01  3.48038611e-01  1.10559489e+00\n",
      "  1.58877419e-01  4.26861264e-01 -3.58946165e-01  1.49418999e+00\n",
      "  9.00513782e-01 -8.29008444e-01  2.26386025e+00 -5.42571448e-01\n",
      "  1.51343144e+00 -6.21544949e-01 -7.22549599e-01  3.21016398e-01\n",
      "  1.28741129e-01  1.27751490e+00 -7.49605666e-01  1.52310976e+00\n",
      " -6.86917819e-03 -2.54194745e-01  1.00352371e+00 -5.12364395e-01\n",
      "  1.66279331e-01 -1.69990836e+00 -1.85635884e+00  3.02517825e-01\n",
      "  5.55141950e-02  4.32485593e-01 -2.74367743e+00 -2.81457510e-01\n",
      "  8.14989513e-01  2.61966455e-01  1.04412960e+00  9.65418636e-01\n",
      "  3.41587255e-01 -1.88010279e-01 -8.39449139e-01  6.33492347e-01\n",
      " -1.24757135e+00  1.31337736e+00 -6.22469263e-01  1.09149506e+00\n",
      " -1.09034016e+00  3.76813749e-01 -3.18257114e-01  2.61894031e+00\n",
      " -2.76705198e-01  4.42140552e-01 -1.43555653e+00  7.85517143e-01\n",
      " -9.88738053e-01  6.72988002e-01  8.68360705e-01  3.13242062e-01\n",
      " -1.54828005e-01  1.17732668e+00  4.02575413e-01 -2.25480529e-01\n",
      "  2.72944171e-01 -7.02691389e-01 -2.31377386e+00 -2.22783195e-01\n",
      " -1.35413650e+00 -1.15072542e+00 -2.88073430e-01  1.81260388e-01\n",
      " -2.23623245e-01 -1.94225711e-01 -5.57725111e-01  8.91721155e-01\n",
      "  1.16596501e-01  2.63088800e-01 -7.05166127e-01  4.08335180e-01\n",
      " -7.90285417e-01  9.51082199e-01  2.10206983e+00 -1.47579554e-01\n",
      " -4.84839924e-01  1.60258306e+00  8.81078598e-02  3.61369070e-01\n",
      "  2.27598177e-02  3.17643233e-01  7.36130484e-02  1.37376140e+00\n",
      "  7.61866764e-01 -3.98162196e-01 -1.31208258e+00 -7.31528581e-01\n",
      " -1.07254213e+00  1.22320138e+00 -2.58565701e+00 -1.14526894e+00\n",
      " -4.33488841e-01 -4.39707520e-01 -1.03812489e+00 -2.62273457e-01\n",
      "  6.38441158e-01  8.12705883e-01 -8.18589118e-01 -1.08256005e+00\n",
      " -3.80301239e-01 -6.89096543e-01  2.39683506e-01  8.50289735e-01\n",
      " -7.26308358e-01 -4.91580776e-01  1.03219979e+00  1.12525973e-01\n",
      " -5.71141273e-01  6.18952595e-02  1.09705291e+00  7.85887270e-01\n",
      " -1.85564767e-01  1.14603225e+00 -2.06964423e+00 -4.38792883e-01\n",
      "  1.74227196e+00  1.94092238e-01 -1.47258884e+00 -6.41420839e-01\n",
      "  6.72742297e-02 -1.58340914e-02  1.37746846e+00 -2.56196901e-01\n",
      " -5.67582665e-01  5.37033982e-01 -5.44631235e-01  3.23707432e-01\n",
      "  1.61864414e+00  6.64638714e-02 -1.06040359e+00  5.45961175e-02\n",
      "  3.93434967e-02 -1.05920809e+00 -2.98790912e-01  2.22548242e+00\n",
      "  2.24405511e-01 -5.42362119e-01  5.22628043e-01  1.10073489e+00\n",
      " -4.75832910e-01 -1.48245524e+00 -5.19264968e-01  8.66583703e-01\n",
      "  3.71195522e-01 -2.10862001e+00  1.41854997e+00 -4.00056944e-01\n",
      " -1.04638985e+00 -2.23544462e-03 -5.98113911e-01 -7.59605516e-01\n",
      " -9.26386972e-01 -2.18387895e-01 -1.09959119e+00  3.36465936e-01\n",
      " -7.19877563e-01  9.42514084e-01 -4.25416496e-01  3.79620259e-01\n",
      " -1.70723125e+00  1.06572378e-02 -2.35473140e-01  4.54021576e-01\n",
      " -1.02334158e+00 -1.38240225e-01  3.48629888e-01 -2.68704032e-01\n",
      "  5.91463529e-01 -1.78286801e-01  1.02320933e+00 -7.07756343e-01\n",
      " -1.16006916e+00  1.91717624e+00 -1.23381123e-01 -2.68528533e-01\n",
      " -1.14265441e+00  1.36823726e+00  1.77076815e-01  1.20573044e+00\n",
      "  1.41205843e+00 -2.15337976e+00  6.00658920e-01  1.15495770e-01\n",
      " -1.31467338e+00 -5.09848812e-01 -4.70210648e-01 -1.95764263e+00\n",
      "  1.46093909e+00  1.31264582e+00  2.08027524e+00 -2.83817742e-02\n",
      " -3.34822927e-02  5.97081623e-02 -2.41728231e+00 -2.06588056e+00\n",
      " -1.74279194e-01  2.06744443e-01 -1.09047610e+00 -1.19118680e-01\n",
      "  4.01697824e-01  3.02122302e-01  3.34421161e-01 -1.10831100e+00\n",
      " -9.20222909e-01  2.32218615e-01 -2.55154972e-01 -3.14863316e-01\n",
      " -1.59970267e+00  4.36780490e-01  5.65896649e-01 -9.78787106e-01\n",
      "  1.22855597e+00  7.58542962e-01  5.58518929e-01 -6.29520116e-02\n",
      "  1.18742536e+00  1.18562777e+00  1.42177066e+00 -1.06696561e+00\n",
      " -1.78054659e+00 -8.24179662e-01  1.72242837e+00 -1.13652998e+00\n",
      " -2.74037314e-01 -1.61735137e+00  1.76740867e+00 -1.36302046e+00\n",
      " -1.24542747e+00 -1.10195479e+00  4.97427770e-01  3.40747285e-01\n",
      "  1.29469407e+00 -1.68192736e-01 -1.58189637e+00  3.32752964e-01\n",
      "  2.06914282e-01 -8.33433942e-01 -1.20097677e+00  4.09469512e-01\n",
      " -5.56735550e-01 -2.86558705e-02 -8.96614175e-01 -2.22091771e+00\n",
      " -1.34815359e+00  6.51385061e-01  1.36132110e+00  5.12259438e-01\n",
      "  1.15080616e+00 -9.45816812e-01  3.48666490e-01  1.29115601e+00\n",
      "  1.13964510e+00  1.13056053e+00 -7.28460179e-02  1.58127482e+00\n",
      "  8.66434530e-01 -1.77527248e-01 -4.01926432e-01  1.61406298e+00\n",
      "  1.93971032e+00  1.75279276e+00 -2.56648516e+00 -9.33356759e-01\n",
      " -2.54317956e-01 -1.13741045e-01  4.05204253e-01 -1.43414289e+00\n",
      " -1.37124663e+00  8.71688411e-01  9.86925920e-01  1.58442262e-01\n",
      "  1.10944234e+00 -2.60888891e-01 -4.94844677e-01  2.10364682e-01\n",
      " -6.90648659e-01  9.44229553e-01 -1.67842868e+00  9.94333574e-01\n",
      " -5.42498176e-02 -6.10670786e-01  3.40630320e-01 -1.32665190e+00\n",
      " -6.35411807e-01  1.82564630e-01  1.03543428e+00  9.70748027e-02\n",
      " -5.46855555e-01 -3.30881410e+00 -4.63280602e-01  2.24579407e-01\n",
      " -2.24752515e+00  9.98283459e-01 -1.06182712e+00 -3.46684931e-02\n",
      "  1.41764225e+00 -1.24954136e+00 -6.18775586e-01 -5.11007703e-01\n",
      " -9.14202212e-01 -3.01515892e-01 -1.59706594e+00  2.40487958e-01\n",
      "  1.59654644e-03  5.03777332e-01  1.84766666e-01  3.90711577e-01\n",
      "  2.27690541e+00 -1.67938680e+00  1.52788636e+00 -1.68420319e+00\n",
      " -5.06769300e-01  1.19757238e+00 -2.78010488e-01  6.86491400e-02\n",
      " -5.39049209e-01 -1.29632687e-01  3.14379167e-01  6.84138095e-01\n",
      "  9.36048610e-01 -1.45547151e+00 -2.69117642e-01  4.91635711e-01\n",
      " -9.69470971e-01  1.83872986e+00  8.19492008e-01 -4.22742826e-01\n",
      " -1.02695268e-01  3.65153939e-01 -4.40593064e-01 -6.06052965e-01\n",
      "  4.75034049e-01 -1.21577077e+00 -9.68793697e-01 -6.46342514e-01\n",
      "  1.08533369e+00 -2.19535994e-01 -1.19895690e-01  1.98995688e-01\n",
      "  6.82348483e-01 -1.10943112e-01  1.19046834e-01  6.71215306e-01\n",
      " -9.96084629e-01  1.34367623e+00  1.62036945e+00 -5.62949996e-01\n",
      " -8.61888584e-01  1.49041285e+00 -7.57353843e-01  4.98675751e-01\n",
      " -2.50954448e-01 -1.79724228e+00 -1.35719865e+00  1.05713585e+00\n",
      " -1.05491807e-01  4.63733007e-01 -2.16122922e-01 -7.99948330e-01\n",
      " -6.55124881e-01 -2.24820127e+00  2.37631176e-01 -9.71408307e-01\n",
      " -7.66843512e-01 -2.70585493e-01 -1.11657661e+00  1.25282149e+00\n",
      " -1.60574278e+00 -2.23134272e+00  9.09836712e-01  8.87246449e-01\n",
      " -1.72687413e+00  5.94455670e-01 -6.35422508e-01  9.86293109e-01\n",
      " -9.91015631e-01 -7.97709874e-01 -1.27420635e+00  8.67409389e-01]\n"
     ]
    }
   ],
   "source": [
    "print( EEGa[0,:] )"
   ]
  },
  {
   "cell_type": "code",
   "execution_count": 13,
   "metadata": {},
   "outputs": [
    {
     "data": {
      "text/plain": [
       "[<matplotlib.lines.Line2D at 0x11ddba048>]"
      ]
     },
     "execution_count": 13,
     "metadata": {},
     "output_type": "execute_result"
    }
   ],
   "source": [
    "%matplotlib osx\n",
    "plt.figure()\n",
    "plt.plot(EEGa[0])                   # Plot the data from condition A, trial 1."
   ]
  },
  {
   "cell_type": "code",
   "execution_count": 14,
   "metadata": {},
   "outputs": [],
   "source": [
    "plt.figure()\n",
    "plt.plot(t);          # Plot the time axis"
   ]
  },
  {
   "cell_type": "code",
   "execution_count": null,
   "metadata": {},
   "outputs": [],
   "source": [
    "dt = t[1] - t[0]  # Determine the sampling interval\n",
    "print(dt)"
   ]
  },
  {
   "cell_type": "code",
   "execution_count": 18,
   "metadata": {},
   "outputs": [],
   "source": [
    "plt.clf()\n",
    "plt.plot(t, EEGa[0])                     # Plot condition A, trial 1 data vs t.\n",
    "plt.xlabel('Time [s]')                   # Label the x-axis as time.\n",
    "plt.ylabel('Voltage [$\\mu$ V]')          # Label the y-axis as voltage.\n",
    "plt.title('EEG data from condition A, Trial 1')  # Add a title\n",
    "\n",
    "# Add a vertical line to indicate the stimulus time\n",
    "plt.plot([0.25, 0.25], [-4,4], 'k', lw=2)\n",
    "show()"
   ]
  },
  {
   "cell_type": "code",
   "execution_count": 22,
   "metadata": {},
   "outputs": [
    {
     "data": {
      "text/plain": [
       "Text(0.5,1,'EEG data from conditions A (blue) and B (red), Trial 10')"
      ]
     },
     "execution_count": 22,
     "metadata": {},
     "output_type": "execute_result"
    }
   ],
   "source": [
    "plt.figure(figsize=(12, 3))     # Resize the figure to make it easier to see\n",
    "plt.plot(t,EEGa[10], 'b')            # Plot condition A, trial 1, data vs t,\n",
    "plt.plot(t,EEGb[10], 'r')            # ... and the data from condition B, trial 1,\n",
    "plt.xlabel('Time [s]')              # Label the x-axis as time.\n",
    "plt.ylabel('Voltage [\\mu V]')       # Label the y-axis as voltage.\n",
    "plt.title('EEG data from conditions A (blue) and B (red), Trial 10') # And give it a title.\n",
    "#plt.show()"
   ]
  },
  {
   "cell_type": "code",
   "execution_count": 25,
   "metadata": {},
   "outputs": [],
   "source": [
    "plt.figure()\n",
    "plt.imshow(EEGa,                                   # Image the data from condition A.\n",
    "           #cmap='BuPu',                            # ... set the colormap (optional)\n",
    "           extent=[t[0], t[-1], 1, ntrials],       # ... set axis limits (t[-1] represents the last element of t)\n",
    "           aspect='auto',                          # ... set aspect ratio \n",
    "           origin='lower')                         # ... put origin in lower left corner\n",
    "plt.xlabel('Time[s]')                              # Label the axes\n",
    "plt.ylabel('Trial #')\n",
    "plt.colorbar()                                     # Show voltage to color mapping\n",
    "plt.vlines(0.25, 1, 1000, 'k', lw=2)               # Indicate stimulus onset with line\n",
    "show()"
   ]
  },
  {
   "cell_type": "markdown",
   "metadata": {},
   "source": [
    "### Plotting the ERP <a id=\"plotting-the-erp\"></a>"
   ]
  },
  {
   "cell_type": "code",
   "execution_count": 28,
   "metadata": {},
   "outputs": [],
   "source": [
    "plt.figure()\n",
    "plt.plot(t, np.mean(EEGa,0))  # Plot the ERP of condition A\n",
    "xlabel('Time [s]')           # Label the axes\n",
    "ylabel('Voltage [$\\mu V$]')\n",
    "title('ERP of condition A')  # ... provide a title\n",
    "plt.ylim([-3, 3])\n",
    "show()                       # ... and show the plot"
   ]
  },
  {
   "cell_type": "code",
   "execution_count": 27,
   "metadata": {},
   "outputs": [
    {
     "data": {
      "text/plain": [
       "[<matplotlib.lines.Line2D at 0x10d1f3128>]"
      ]
     },
     "execution_count": 27,
     "metadata": {},
     "output_type": "execute_result"
    }
   ],
   "source": [
    "plt.figure()\n",
    "plt.plot(t, EEGa[0])"
   ]
  },
  {
   "cell_type": "markdown",
   "metadata": {},
   "source": [
    "### Confidence Intervals for the ERP (Method 1) <a id=\"cis-m1\"></a>"
   ]
  },
  {
   "cell_type": "code",
   "execution_count": null,
   "metadata": {},
   "outputs": [],
   "source": [
    "mn = EEGa.mean(0)  # Compute the mean across trials (the ERP)"
   ]
  },
  {
   "cell_type": "code",
   "execution_count": null,
   "metadata": {},
   "outputs": [],
   "source": [
    "sd = EEGa.std(0)  # Compute the std across trials"
   ]
  },
  {
   "cell_type": "code",
   "execution_count": null,
   "metadata": {},
   "outputs": [],
   "source": [
    "sdmn = sd / sqrt(ntrials)  # Compute the std of the mean"
   ]
  },
  {
   "cell_type": "code",
   "execution_count": null,
   "metadata": {},
   "outputs": [],
   "source": [
    "plt.plot(t, mn, 'k', lw=3)              # Plot the ERP of condition A\n",
    "plt.plot(t, mn + 2 * sdmn, 'k:', lw=1)  # ... and include the upper CI\n",
    "plt.plot(t, mn - 2 * sdmn, 'k:', lw=1)  # ... and the lower CI\n",
    "xlabel('Time [s]')                     # Label the axes\n",
    "ylabel('Voltage [$\\mu$ V]')\n",
    "title('ERP of condition A')            # ... provide a useful title\n",
    "show()"
   ]
  },
  {
   "cell_type": "code",
   "execution_count": null,
   "metadata": {},
   "outputs": [],
   "source": [
    "plt.hlines(0, t[0], t[-1]);"
   ]
  }
 ],
 "metadata": {
  "kernelspec": {
   "display_name": "Python 3",
   "language": "python",
   "name": "python3"
  },
  "language_info": {
   "codemirror_mode": {
    "name": "ipython",
    "version": 3
   },
   "file_extension": ".py",
   "mimetype": "text/x-python",
   "name": "python",
   "nbconvert_exporter": "python",
   "pygments_lexer": "ipython3",
   "version": "3.6.4"
  }
 },
 "nbformat": 4,
 "nbformat_minor": 2
}
