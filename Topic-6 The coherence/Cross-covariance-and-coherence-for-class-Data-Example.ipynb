{
 "cells": [
  {
   "cell_type": "markdown",
   "metadata": {},
   "source": [
    "# Analyze an example data set"
   ]
  },
  {
   "cell_type": "code",
   "execution_count": null,
   "metadata": {},
   "outputs": [],
   "source": [
    "# Load modules we'll need.\n",
    "\n",
    "from scipy.io import loadmat\n",
    "import matplotlib.pyplot as plt\n",
    "import numpy as np\n",
    "from scipy.signal import spectrogram\n",
    "%matplotlib osx"
   ]
  },
  {
   "cell_type": "markdown",
   "metadata": {},
   "source": [
    "## Step 1: Load the data and look at it.\n",
    "\n",
    "**Q.** Do the data from the two electrodes appear related?\n",
    "\n",
    "### Conclusions\n",
    "\n",
    "* \n",
    "* "
   ]
  },
  {
   "cell_type": "code",
   "execution_count": null,
   "metadata": {},
   "outputs": [],
   "source": [
    "# Load the data.\n",
    "\n",
    "data = loadmat('ECoG-1.mat')  # Load the data,\n",
    "E1 = data['E1']               # ... from the first electrode,\n",
    "E2 = data['E2']               # ... and from the second electrode.\n",
    "t = data['t'][0]              # Load the time axis\n",
    "K = np.size(E1,0)             # Store number of trials.\n",
    "N = np.size(E1,1)             # Store number of observations.\n",
    "dt = t[1]-t[0]                # Store sampling interval."
   ]
  },
  {
   "cell_type": "code",
   "execution_count": null,
   "metadata": {},
   "outputs": [],
   "source": [
    "# Look at it for a single trial.\n",
    "\n",
    "print(E1.shape)\n",
    "\n",
    "plt.plot(t,E1[0,:])\n",
    "plt.plot(t,E2[0,:])\n",
    "plt.xlabel('Time [s]');\n",
    "plt.ylabel('Voltage [mV]');"
   ]
  },
  {
   "cell_type": "code",
   "execution_count": null,
   "metadata": {},
   "outputs": [],
   "source": [
    "# Look at many trials for one electrode.\n",
    "\n",
    "plt.imshow(E1,                             # ... and show the image,\n",
    "           extent=[min(t), max(t), K, 1],  # ... with meaningful axes,\n",
    "           aspect='auto')                  # ... and a nice aspect ratio\n",
    "plt.xlabel('Time [s]')\n",
    "plt.ylabel('Trial #');\n",
    "plt.title('All trials from E1');"
   ]
  },
  {
   "cell_type": "code",
   "execution_count": null,
   "metadata": {},
   "outputs": [],
   "source": [
    "# Look at a couple of trials.\n",
    "\n",
    "f, a = plt.subplots(4, 1, figsize=(12, 3*4))\n",
    "for j in range(4):\n",
    "    a[j].plot(t, E1[j], 'b')            # Plot the data from trial j of one electrode,\n",
    "    a[j].plot(t, E2[j], 'r')            # ... and trial j of the other electrode.\n",
    "    a[j].set_ylabel('Trial ' + str(j))"
   ]
  },
  {
   "cell_type": "markdown",
   "metadata": {},
   "source": [
    "## Compute the cross-covariance for the *first trial*.\n",
    "\n",
    "**Q.** What do you find? Are the data from the two electrodes \"coupled\" for the first trial?\n",
    "\n",
    "### Conclusions\n",
    "\n",
    "* \n",
    "* "
   ]
  },
  {
   "cell_type": "code",
   "execution_count": null,
   "metadata": {},
   "outputs": [],
   "source": [
    "x = E1[0,:] - np.mean(E1[0,:])  # Define one time series,\n",
    "y = E2[0,:] - np.mean(E2[0,:])  # ... and another.\n",
    "xc=1/N*np.correlate(x,y,2)      # ... and compute their cross covariance.\n",
    "lags = np.arange(-N+1,N)        # Create a lag axis,\n",
    "plt.plot(lags*dt,xc)            # ... and plot the cross covariance vs lags in time.\n",
    "\n",
    "plt.xlim([-0.2, 0.2])\n",
    "plt.xlabel('Lag [s]')\n",
    "plt.ylabel('Cross covariance');\n",
    "plt.title('Cross covariance between two electrodes during the first trial');"
   ]
  },
  {
   "cell_type": "markdown",
   "metadata": {},
   "source": [
    "### Compute the trial-averaged cross-covariance (averaged over all trials).\n",
    "\n",
    "**Q.** What do you find? Are the data from the two electrodes consistently \"coupled\" across trials?\n",
    "\n",
    "### Conclusions\n",
    "\n",
    "* \n",
    "* "
   ]
  },
  {
   "cell_type": "code",
   "execution_count": null,
   "metadata": {
    "scrolled": false
   },
   "outputs": [],
   "source": [
    "XC = np.zeros([K, 2 * N - 1])                   # Declare empty vector for cross cov.\n",
    "for k in range(K):                              # For each trial,\n",
    "    x = E1[k] - E1[k].mean()                    # ...get data from one electrode,\n",
    "    y = E2[k] - E2[k].mean()                    # ...and the other electrode,\n",
    "    XC[k] = 1 / N * np.correlate(x, y, 'full')  # ...compute cross covariance.\n",
    "\n",
    "f, (a1, a2) = subplots(2, 1, figsize=(12, 6), sharex=True, sharey=True)    \n",
    "a1.plot(lags * dt, XC.mean(0))\t\t\t\t\t# Plot cross covariance vs lags in time.\n",
    "[a2.plot(lags * dt, XC[k]) for k in range(4)]   # Also, plot the single-trial cross-covariance for 4 trials\n",
    "\n",
    "xlim([-0.2, 0.2])\n",
    "ylim([-0.6, 0.6])\n",
    "xlabel('Lag [s]')\n",
    "a1.set_title('Trial-averaged cross covariance')\n",
    "a2.set_title('Single-trial cross-covariance');"
   ]
  },
  {
   "cell_type": "markdown",
   "metadata": {},
   "source": [
    "## Compute the (auto-)spectrum for each electrode, for a single trial.\n",
    "\n",
    "**Q.** What do you find? What rhythms are present in the single trial data?\n",
    "\n",
    "**Q.** How else can you visualize the spectrum?\n",
    "\n",
    "### Conclusions\n",
    "\n",
    "* \n",
    "* "
   ]
  },
  {
   "cell_type": "code",
   "execution_count": null,
   "metadata": {},
   "outputs": [],
   "source": [
    "T = t[-1]                                        # Get the total time of the recording.\n",
    "N = E1.shape[1]                                  # Determine the number of sample points per trial\n",
    "\n",
    "# Compute the Fourier transform for each trial\n",
    "xf = np.array([rfft(x - x.mean()) for x in E1])  # ... in E1\n",
    "yf = np.array([rfft(y - y.mean()) for y in E2])  # ... and in E2\n",
    "\n",
    "# Compute the spectra\n",
    "Sxx = 2 * dt**2 / T * (xf * xf.conj())           # Spectrum of E1 trials\n",
    "Syy = 2 * dt**2 / T * (yf * yf.conj())           # ... and E2 trials\n",
    "Sxy = 2 * dt**2 / T * (xf * yf.conj())           # ... and the cross spectrum\n",
    "\n",
    "f = rfftfreq(N, dt)                              # Define the frequency axis\n",
    "\n",
    "# Plot the spectrum from the first trial of E1.\n",
    "plt.plot(f, 10 * (Sxx[0].real), 'k', label='Single-trial spectrum')  \n",
    "\n",
    "plt.xlim([0, 100])                                   # ... in select frequency range,\n",
    "plt.xlabel('Frequency [Hz]')                         # ... with axes labelled.\n",
    "plt.ylabel('Power [ mV^2/Hz]')\n",
    "plt.title('Single-trial spectrum');"
   ]
  },
  {
   "cell_type": "markdown",
   "metadata": {},
   "source": [
    "## Compute the trial-averaged (auto-)spectrum for each electrode.\n",
    "\n",
    "**Q.** Now what do you find? What rhythms are present in the data?\n",
    "\n",
    "**Q.** How else can you visualize the spectrum?\n",
    "\n",
    "### Conclusions\n",
    "\n",
    "* \n",
    "* "
   ]
  },
  {
   "cell_type": "code",
   "execution_count": null,
   "metadata": {},
   "outputs": [],
   "source": [
    "T = t[-1]                                        # Get the total time of the recording.\n",
    "N = E1.shape[1]                                  # Determine the number of sample points per trial\n",
    "\n",
    "# Compute the Fourier transform for each trial\n",
    "xf = np.array([rfft(x - x.mean()) for x in E1])  # ... in E1\n",
    "yf = np.array([rfft(y - y.mean()) for y in E2])  # ... and in E2\n",
    "\n",
    "# Compute the spectra\n",
    "Sxx = 2 * dt**2 / T * (xf * xf.conj())           # Spectrum of E1 trials\n",
    "Syy = 2 * dt**2 / T * (yf * yf.conj())           # ... and E2 trials\n",
    "Sxy = 2 * dt**2 / T * (xf * yf.conj())           # ... and the cross spectrum\n",
    "\n",
    "f = rfftfreq(N, dt)                              # Define the frequency axis\n",
    "\n",
    "# Plot the average spectrum over trials in decibels vs frequency\n",
    "plt.plot(f, 10 * (Sxx.mean(0).real), lw=3, label='Trial-averaged spectrum')  \n",
    "# ... and the spectrum from the first trial for reference\n",
    "plt.plot(f, 10 * (Sxx[0].real), 'k', label='Single-trial spectrum')  \n",
    "\n",
    "plt.xlim([0, 100])  # ... in select frequency range,\n",
    "plt.xlabel('Frequency [Hz]')  # ... with axes labelled.\n",
    "plt.ylabel('Power [ mV^2/Hz]')\n",
    "plt.title('Trial-averaged spectrum')\n",
    "plt.legend();"
   ]
  },
  {
   "cell_type": "markdown",
   "metadata": {},
   "source": [
    "## Compute the coherence between the two electrodes\n",
    "\n",
    "**Q.** What do you find? Is there evidence of coherence between the two electrodes?\n",
    "\n",
    "**Q.** How do the coherence results compare to the spectral results?\n",
    "\n",
    "### Conclusions\n",
    "\n",
    "* \n",
    "* "
   ]
  },
  {
   "cell_type": "code",
   "execution_count": null,
   "metadata": {},
   "outputs": [],
   "source": [
    "# Compute the Fourier transforms\n",
    "xf = np.array([rfft(x - x.mean()) for x in E1])  # ... for each trial in E1\n",
    "yf = np.array([rfft(y - y.mean()) for y in E2])  # ... and each trial in E2\n",
    "\n",
    "# Compute the spectra\n",
    "Sxx = 2 * dt**2 / T * (xf * xf.conj()).mean(0)   # Spectrum of E1 trials\n",
    "Syy = 2 * dt**2 / T * (yf * yf.conj()).mean(0)   # ... and E2 trials\n",
    "Sxy = 2 * dt**2 / T * (xf * yf.conj()).mean(0)   # ... and the cross spectrum\n",
    "\n",
    "# Compute the coherence squared.\n",
    "cohr_squared = (Sxy * Sxy.conj()) / (Sxx * Syy)\n",
    "\n",
    "f = rfftfreq(N, dt)                              # Define a frequency axis.\n",
    "plot(f, cohr_squared.real)                       # Plot coherence vs frequency,\n",
    "xlim([0, 50])                                    # ... in a chosen frequency range,\n",
    "ylim([0, 1])                                     # ... with y-axis scaled,\n",
    "xlabel('Frequency [Hz]')                         # ... and with axes labeled.\n",
    "ylabel('Coherence')\n",
    "title('Coherence between two electrodes');"
   ]
  },
  {
   "cell_type": "markdown",
   "metadata": {},
   "source": [
    "## Visualizing the phase difference across trials\n",
    "\n",
    "**Q.** What do you find? Which frequency has the more consistent phase difference across trials?\n",
    "\n",
    "### Conclusions\n",
    "\n",
    "* \n",
    "* "
   ]
  },
  {
   "cell_type": "code",
   "execution_count": null,
   "metadata": {},
   "outputs": [],
   "source": [
    "j8 = np.where(f==8)[0][0]        # Determine index j for frequency 8 Hz.\n",
    "j24 = np.where(f==24)[0][0]      # Determine index j for frequency 24 Hz.\n",
    "\n",
    "phi8 = np.zeros(K)               # Variables to hold phase differences.\n",
    "phi24 = np.zeros(K)\n",
    "\n",
    "for k in range(K):               # For each trial, compute the cross spectrum. \n",
    "    x = E1[k] - np.mean(E1[k,:]) # Get the data from each electrode,\n",
    "    y = E2[k] - np.mean(E2[k,:])\n",
    "    xf = rfft(x - np.mean(x))    # ... compute the Fourier transform,\n",
    "    yf = rfft(y - np.mean(y))\n",
    "    Sxy = 2 * dt**2 / T * (xf * np.conj(yf))  # ... and the cross-spectrum,\n",
    "    phi8[k] = np.angle(Sxy[j8])  # ... and the phases.\n",
    "    phi24[k] = np.angle(Sxy[j24])\n",
    "\n",
    "_, (a1, a2) = plt.subplots(1, 2, sharey=True, sharex=True)  # Plot the distributions of phases.\n",
    "a1.hist(phi8, bins=20, range=[-np.pi, np.pi])\n",
    "a2.hist(phi24, bins=20, range=[-np.pi, np.pi])\n",
    "\n",
    "ylim([0, 40])\n",
    "a1.set_ylabel('Counts')\n",
    "a1.set_xlabel('Phase');\n",
    "a1.set_title('Angles at 8 Hz')\n",
    "\n",
    "a2.set_title('Angles at 24 Hz')\n",
    "a2.set_xlabel('Phase');"
   ]
  }
 ],
 "metadata": {
  "kernelspec": {
   "display_name": "Python 3",
   "language": "python",
   "name": "python3"
  },
  "language_info": {
   "codemirror_mode": {
    "name": "ipython",
    "version": 3
   },
   "file_extension": ".py",
   "mimetype": "text/x-python",
   "name": "python",
   "nbconvert_exporter": "python",
   "pygments_lexer": "ipython3",
   "version": "3.6.4"
  }
 },
 "nbformat": 4,
 "nbformat_minor": 2
}
