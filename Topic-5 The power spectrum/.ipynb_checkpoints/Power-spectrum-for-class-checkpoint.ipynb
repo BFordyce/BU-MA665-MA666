{
 "cells": [
  {
   "cell_type": "code",
   "execution_count": null,
   "metadata": {},
   "outputs": [],
   "source": [
    "# Load modules we'll need.\n",
    "\n",
    "from scipy.io import loadmat\n",
    "import matplotlib.pyplot as plt\n",
    "import numpy as np\n",
    "from scipy.signal import spectrogram\n",
    "%matplotlib osx"
   ]
  },
  {
   "cell_type": "code",
   "execution_count": null,
   "metadata": {},
   "outputs": [],
   "source": [
    "# Load the data.\n",
    "\n",
    "data = loadmat('EEG-1.mat')    # Load the EEG data\n",
    "EEG = data['EEG'].reshape(-1)  # Extract the EEG variable\n",
    "t = data['t'][0]               # ... and the t variablea"
   ]
  },
  {
   "cell_type": "code",
   "execution_count": null,
   "metadata": {},
   "outputs": [],
   "source": [
    "# Look at it.\n",
    "\n",
    "plt.plot(t,EEG)\n",
    "plt.xlabel('Time [s]')\n",
    "plt.ylabel('EEG');"
   ]
  },
  {
   "cell_type": "code",
   "execution_count": null,
   "metadata": {},
   "outputs": [],
   "source": [
    "#Q. What is the sampling interval (dt)?\n",
    "\n",
    "dt = "
   ]
  },
  {
   "cell_type": "code",
   "execution_count": null,
   "metadata": {},
   "outputs": [],
   "source": [
    "#Q. What is the number of points in the data (N)?\n",
    "\n",
    "N = "
   ]
  },
  {
   "cell_type": "code",
   "execution_count": null,
   "metadata": {},
   "outputs": [],
   "source": [
    "#Q. What is the total time of the observation (T)?\n",
    "\n",
    "T = "
   ]
  },
  {
   "cell_type": "code",
   "execution_count": null,
   "metadata": {},
   "outputs": [],
   "source": [
    "# Compute the power spectrum.\n",
    "\n",
    "x  = EEG\n",
    "xf = np.fft.fft(x)                        # Compute Fourier transform of x\n",
    "Sxx = 2 * dt ** 2 / T * (xf * xf.conj())  # Compute spectrum\n",
    "Sxx = Sxx[0:int(N / 2)].real              # Ignore negative frequencies"
   ]
  },
  {
   "cell_type": "code",
   "execution_count": null,
   "metadata": {},
   "outputs": [],
   "source": [
    "# Define the frequency axis\n",
    "\n",
    "df = 1 / T                   # Determine frequency resolution\n",
    "fNQ = 1 / dt / 2             # Determine Nyquist frequency\n",
    "faxis = np.arange(0,fNQ,df)  # Construct frequency axis"
   ]
  },
  {
   "cell_type": "code",
   "execution_count": null,
   "metadata": {},
   "outputs": [],
   "source": [
    "# Plot the spectrum versus frequency.\n",
    "# Q. What do you see?\n",
    "\n",
    "plt.figure()\n",
    "plt.plot(faxis, Sxx)\n",
    "plt.xlim([0, 100])                          # Select frequency range\n",
    "plt.xlabel('Frequency [Hz]')                # Label the axes\n",
    "plt.ylabel('Power [$\\mu V^2$/Hz]');"
   ]
  },
  {
   "cell_type": "code",
   "execution_count": null,
   "metadata": {},
   "outputs": [],
   "source": [
    "# Plot the spectrum versus frequency on a decibel scale.\n",
    "# Q. Now what do you see?\n",
    "\n",
    "plt.figure()\n",
    "plt.plot(faxis, 10 * np.log10(Sxx / max(Sxx)))   # Plot the spectrum in decibels.\n",
    "plt.xlim([0, 100])                           # Select the frequency range.\n",
    "plt.ylim([-60, 0])                           # Select the decibel range.\n",
    "plt.xlabel('Frequency [Hz]')                     # Label the axes.\n",
    "plt.ylabel('Power [dB]');"
   ]
  },
  {
   "cell_type": "code",
   "execution_count": null,
   "metadata": {},
   "outputs": [],
   "source": [
    "# Plot the spectrum versus frequency on a logarithmic frequency axis.\n",
    "# Q. And now what do you see?\n",
    "\n",
    "plt.figure()\n",
    "plt.semilogx(faxis, 10 * np.log10(Sxx / max(Sxx)))   # Log-log scale\n",
    "plt.xlim([df, 100])                                  # Select frequency range\n",
    "plt.ylim([-60, 0])                                   # ... and the decibel range.\n",
    "plt.xlabel('Frequency [Hz]')                         # Label the axes.\n",
    "plt.ylabel('Power [dB]');"
   ]
  },
  {
   "cell_type": "code",
   "execution_count": null,
   "metadata": {},
   "outputs": [],
   "source": [
    "# Plot the spectrogram.\n",
    "\n",
    "Fs = 1 / dt               # Define the sampling frequency,\n",
    "interval = int(Fs)        # ... the interval size,\n",
    "overlap = int(Fs * 0.95)  # ... and the overlap intervals\n",
    "\n",
    "                          # Compute the spectrogram\n",
    "f0, t0, Sxx0 = spectrogram(\n",
    "    EEG,                  # Provide the signal,\n",
    "    fs=Fs,                # ... the sampling frequency,\n",
    "    nperseg=interval,     # ... the length of a segment,\n",
    "    noverlap=overlap)     # ... the number of samples to overlap,\n",
    "plt.pcolormesh(t0, f0, 10 * np.log10(Sxx0),\n",
    "               cmap='jet')# Plot the result\n",
    "plt.colorbar()            # ... with a color bar,\n",
    "plt.ylim([0, 70])             # ... set the frequency range,\n",
    "plt.xlabel('Time [s]')       # ... and label the axes\n",
    "plt.ylabel('Frequency [Hz]');"
   ]
  },
  {
   "cell_type": "code",
   "execution_count": null,
   "metadata": {},
   "outputs": [],
   "source": [
    "# Apply the Hanning taper and look at the data.\n",
    "\n",
    "x_tapered  = np.hanning(N) * x              # Apply the Hanning taper to the data.\n",
    "plt.figure()\n",
    "plt.plot(t,x)\n",
    "plt.plot(t,x_tapered);"
   ]
  },
  {
   "cell_type": "code",
   "execution_count": null,
   "metadata": {},
   "outputs": [],
   "source": [
    "# Apply the Hanning taper and look at the spectrum.\n",
    "\n",
    "xf_tapered = np.fft.fft(x_tapered)               # Compute Fourier transform of x.\n",
    "Sxx_tapered = 2 * dt ** 2 / T * (xf_tapered * np.conj(xf_tapered))  # Compute the spectrum,\n",
    "Sxx_tapered = np.real(Sxx_tapered[:int(N / 2)])                # ... and ignore negative frequencies.\n",
    "\n",
    "plt.figure()\n",
    "plt.semilogx(faxis,10*np.log10(Sxx))         # Plot spectrum of untapered signal.  \n",
    "plt.semilogx(faxis,10*np.log10(Sxx_tapered)) # Plot spectrum vs tapered signal.\n",
    "plt.xlim([faxis[1], 100])                    # Select frequency range,\n",
    "plt.ylim([-70, 20])                          # ... and the power range.\n",
    "plt.xlabel('Frequency [Hz]')                 # Label the axes\n",
    "plt.ylabel('Power [$\\mu V^2$/Hz]')"
   ]
  }
 ],
 "metadata": {
  "kernelspec": {
   "display_name": "Python 3",
   "language": "python",
   "name": "python3"
  },
  "language_info": {
   "codemirror_mode": {
    "name": "ipython",
    "version": 3
   },
   "file_extension": ".py",
   "mimetype": "text/x-python",
   "name": "python",
   "nbconvert_exporter": "python",
   "pygments_lexer": "ipython3",
   "version": "3.6.4"
  }
 },
 "nbformat": 4,
 "nbformat_minor": 2
}
