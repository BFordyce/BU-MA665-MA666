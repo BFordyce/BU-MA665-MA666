{
 "cells": [
  {
   "cell_type": "markdown",
   "metadata": {},
   "source": [
    "### Load in data, and get bearings"
   ]
  },
  {
   "cell_type": "code",
   "execution_count": null,
   "metadata": {},
   "outputs": [],
   "source": [
    "import numpy as np\n",
    "import matplotlib.pyplot as plt\n",
    "%matplotlib osx"
   ]
  },
  {
   "cell_type": "code",
   "execution_count": null,
   "metadata": {},
   "outputs": [],
   "source": [
    "from scipy.io import loadmat       # Import function to read data.\n",
    "data = loadmat('EEG-1.mat')"
   ]
  },
  {
   "cell_type": "code",
   "execution_count": null,
   "metadata": {},
   "outputs": [],
   "source": [
    "whos"
   ]
  },
  {
   "cell_type": "code",
   "execution_count": null,
   "metadata": {},
   "outputs": [],
   "source": [
    "data.keys()"
   ]
  },
  {
   "cell_type": "code",
   "execution_count": null,
   "metadata": {},
   "outputs": [],
   "source": [
    "EEGa = data['EEGa']\n",
    "EEGb = data['EEGb']\n",
    "t = data['t'][0]"
   ]
  },
  {
   "cell_type": "code",
   "execution_count": null,
   "metadata": {},
   "outputs": [],
   "source": [
    "np.shape(EEGa)"
   ]
  },
  {
   "cell_type": "code",
   "execution_count": null,
   "metadata": {},
   "outputs": [],
   "source": [
    "np.shape(t)"
   ]
  },
  {
   "cell_type": "code",
   "execution_count": null,
   "metadata": {},
   "outputs": [],
   "source": [
    "whos"
   ]
  },
  {
   "cell_type": "code",
   "execution_count": null,
   "metadata": {},
   "outputs": [],
   "source": [
    "ntrials = EEGa.shape[0]"
   ]
  },
  {
   "cell_type": "code",
   "execution_count": null,
   "metadata": {},
   "outputs": [],
   "source": [
    "nsamples = EEGa.shape[1]"
   ]
  },
  {
   "cell_type": "markdown",
   "metadata": {},
   "source": [
    "### Visual inspection of trials "
   ]
  },
  {
   "cell_type": "code",
   "execution_count": null,
   "metadata": {},
   "outputs": [],
   "source": [
    "print( EEGa[0,:] )"
   ]
  },
  {
   "cell_type": "code",
   "execution_count": null,
   "metadata": {},
   "outputs": [],
   "source": [
    "%matplotlib osx\n",
    "plt.figure()\n",
    "plt.plot(EEGa[0])                   # Plot the data from condition A, trial 1."
   ]
  },
  {
   "cell_type": "code",
   "execution_count": null,
   "metadata": {},
   "outputs": [],
   "source": [
    "plt.figure()\n",
    "plt.plot(t);          # Plot the time axis"
   ]
  },
  {
   "cell_type": "code",
   "execution_count": null,
   "metadata": {},
   "outputs": [],
   "source": [
    "dt = t[1] - t[0]  # Determine the sampling interval\n",
    "print(dt)"
   ]
  },
  {
   "cell_type": "code",
   "execution_count": null,
   "metadata": {},
   "outputs": [],
   "source": [
    "plt.clf()\n",
    "plot(t, EEGa[0])                     # Plot condition A, trial 1 data vs t.\n",
    "xlabel('Time [s]')                   # Label the x-axis as time.\n",
    "ylabel('Voltage [$\\mu$ V]')          # Label the y-axis as voltage.\n",
    "title('EEG data from condition A, Trial 1')  # Add a title\n",
    "\n",
    "# Add a vertical line to indicate the stimulus time\n",
    "plot([0.25, 0.25], [-4,4], 'k', lw=2)\n",
    "show()"
   ]
  },
  {
   "cell_type": "code",
   "execution_count": null,
   "metadata": {},
   "outputs": [],
   "source": [
    "plt.figure(figsize=(12, 3))     # Resize the figure to make it easier to see\n",
    "plot(t,EEGa[0], 'b')            # Plot condition A, trial 1, data vs t,\n",
    "plot(t,EEGb[0], 'r')            # ... and the data from condition B, trial 1,\n",
    "xlabel('Time [s]')              # Label the x-axis as time.\n",
    "ylabel('Voltage [\\mu V]')       # Label the y-axis as voltage.\n",
    "title('EEG data from conditions A (blue) and B (red), Trial 1') # And give it a title.\n",
    "show()"
   ]
  },
  {
   "cell_type": "code",
   "execution_count": null,
   "metadata": {},
   "outputs": [],
   "source": [
    "imshow(EEGa,                                   # Image the data from condition A.\n",
    "           cmap='BuPu',                            # ... set the colormap (optional)\n",
    "           extent=[t[0], t[-1], 1, ntrials],       # ... set axis limits (t[-1] represents the last element of t)\n",
    "           aspect='auto',                          # ... set aspect ratio \n",
    "           origin='lower')                         # ... put origin in lower left corner\n",
    "xlabel('Time[s]')                              # Label the axes\n",
    "ylabel('Trial #')\n",
    "colorbar()                                     # Show voltage to color mapping\n",
    "vlines(0.25, 1, 1000, 'k', lw=2)               # Indicate stimulus onset with line\n",
    "show()"
   ]
  },
  {
   "cell_type": "markdown",
   "metadata": {},
   "source": [
    "### Plotting the ERP <a id=\"plotting-the-erp\"></a>"
   ]
  },
  {
   "cell_type": "code",
   "execution_count": null,
   "metadata": {},
   "outputs": [],
   "source": [
    "plt.plot(t, np.mean(EEGa,0))  # Plot the ERP of condition A\n",
    "xlabel('Time [s]')           # Label the axes\n",
    "ylabel('Voltage [$\\mu V$]')\n",
    "title('ERP of condition A')  # ... provide a title\n",
    "show()                       # ... and show the plot"
   ]
  },
  {
   "cell_type": "markdown",
   "metadata": {},
   "source": [
    "### Confidence Intervals for the ERP (Method 1) <a id=\"cis-m1\"></a>"
   ]
  },
  {
   "cell_type": "code",
   "execution_count": null,
   "metadata": {},
   "outputs": [],
   "source": [
    "mn = EEGa.mean(0)  # Compute the mean across trials (the ERP)"
   ]
  },
  {
   "cell_type": "code",
   "execution_count": null,
   "metadata": {},
   "outputs": [],
   "source": [
    "sd = EEGa.std(0)  # Compute the std across trials"
   ]
  },
  {
   "cell_type": "code",
   "execution_count": null,
   "metadata": {},
   "outputs": [],
   "source": [
    "sdmn = sd / sqrt(ntrials)  # Compute the std of the mean"
   ]
  },
  {
   "cell_type": "code",
   "execution_count": null,
   "metadata": {},
   "outputs": [],
   "source": [
    "plt.plot(t, mn, 'k', lw=3)              # Plot the ERP of condition A\n",
    "plt.plot(t, mn + 2 * sdmn, 'k:', lw=1)  # ... and include the upper CI\n",
    "plt.plot(t, mn - 2 * sdmn, 'k:', lw=1)  # ... and the lower CI\n",
    "xlabel('Time [s]')                     # Label the axes\n",
    "ylabel('Voltage [$\\mu$ V]')\n",
    "title('ERP of condition A')            # ... provide a useful title\n",
    "show()"
   ]
  },
  {
   "cell_type": "code",
   "execution_count": null,
   "metadata": {},
   "outputs": [],
   "source": [
    "plt.hlines(0, t[0], t[-1]);"
   ]
  },
  {
   "cell_type": "markdown",
   "metadata": {},
   "source": [
    "### Confidence Intervals for the ERP (Method 2)"
   ]
  },
  {
   "cell_type": "code",
   "execution_count": null,
   "metadata": {},
   "outputs": [],
   "source": [
    "# Example: Draw 1000 integers with replacement from [0, 1000)\n",
    "i = np.random.randint(0, ntrials, size=ntrials)\n",
    "print(i)"
   ]
  },
  {
   "cell_type": "code",
   "execution_count": null,
   "metadata": {},
   "outputs": [],
   "source": [
    "EEG0 = EEGa[i,:]        # Create a resampled EEG.\n",
    "                        # Q: What is the shape of the resampled EEG?"
   ]
  },
  {
   "cell_type": "code",
   "execution_count": null,
   "metadata": {},
   "outputs": [],
   "source": [
    "ERP0 = EEG0.mean(0)     # Create the resampled ERP\n",
    "                        # Q: What is the difference between the resampled EEG and resampled ERP?\n",
    "                        # Q: What does the resampled ERP look like?"
   ]
  },
  {
   "cell_type": "code",
   "execution_count": null,
   "metadata": {},
   "outputs": [],
   "source": [
    "N_resample = 3000\n",
    "ERP0 = np.zeros((N_resample, nsamples))\n",
    "for k in arange(0,N_resample):\n",
    "    i = np.random.randint(0, ntrials, size=ntrials);  # Create resampled indices.\n",
    "    EEG0 = EEGa[i,:]                                  # Create a resampled EEG.\n",
    "    ERP0[k,:] = EEG0.mean(0)                          # Create the resampled ERP"
   ]
  },
  {
   "cell_type": "code",
   "execution_count": null,
   "metadata": {},
   "outputs": [],
   "source": [
    "# Plot some examples.\n",
    "plt.plot(t,ERP0[0,:]);\n",
    "plt.plot(t,ERP0[1,:]);"
   ]
  },
  {
   "cell_type": "code",
   "execution_count": null,
   "metadata": {},
   "outputs": [],
   "source": [
    "ERP0_sorted = np.sort(ERP0,0)             # Sort each column of the resampled ERP\n",
    "ciL = ERP0_sorted[int(0.025*N_resample)]  # Determine the lower CI\n",
    "ciU = ERP0_sorted[int(0.975*N_resample)]  # ... and the upper CI\n",
    "mnA = EEGa.mean(0)                        # Determine the ERP for condition A\n",
    "plt.plot(t, mnA, 'k', lw=3)               # ... and plot it\n",
    "plt.plot(t, ciL, 'k:')                    # ... and plot the lower CI\n",
    "plt.plot(t, ciU, 'k:')                    # ... and the upper CI\n",
    "hlines(0, 0, 1, 'b')                      # plot a horizontal line at 0\n",
    "plt.xlabel('Time [s]')                    # ... and label the axes\n",
    "plt.ylabel('Voltage');"
   ]
  }
 ],
 "metadata": {
  "kernelspec": {
   "display_name": "Python 3",
   "language": "python",
   "name": "python3"
  },
  "language_info": {
   "codemirror_mode": {
    "name": "ipython",
    "version": 3
   },
   "file_extension": ".py",
   "mimetype": "text/x-python",
   "name": "python",
   "nbconvert_exporter": "python",
   "pygments_lexer": "ipython3",
   "version": "3.6.4"
  }
 },
 "nbformat": 4,
 "nbformat_minor": 2
}
