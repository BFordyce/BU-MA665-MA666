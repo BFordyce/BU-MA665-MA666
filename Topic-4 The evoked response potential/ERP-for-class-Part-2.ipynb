{
 "cells": [
  {
   "cell_type": "markdown",
   "metadata": {},
   "source": [
    "### Confidence Intervals for the ERP (Method 1) <a id=\"cis-m1\"></a>"
   ]
  },
  {
   "cell_type": "code",
   "execution_count": 9,
   "metadata": {},
   "outputs": [],
   "source": [
    "import numpy as np\n",
    "import matplotlib.pyplot as plt\n",
    "%matplotlib osx"
   ]
  },
  {
   "cell_type": "code",
   "execution_count": 2,
   "metadata": {},
   "outputs": [],
   "source": [
    "from scipy.io import loadmat       # Import function to read data.\n",
    "data = loadmat('EEG-1.mat')\n",
    "EEGa = data['EEGa']\n",
    "EEGb = data['EEGb']\n",
    "t = data['t'][0]\n",
    "ntrials = EEGa.shape[0]\n",
    "nsamples = EEGa.shape[1]"
   ]
  },
  {
   "cell_type": "code",
   "execution_count": 3,
   "metadata": {},
   "outputs": [],
   "source": [
    "mn = EEGa.mean(0)  # Compute the mean across trials (the ERP)"
   ]
  },
  {
   "cell_type": "code",
   "execution_count": 4,
   "metadata": {},
   "outputs": [],
   "source": [
    "sd = EEGa.std(0)  # Compute the std across trials"
   ]
  },
  {
   "cell_type": "code",
   "execution_count": 5,
   "metadata": {},
   "outputs": [],
   "source": [
    "sdmn = sd / sqrt(ntrials)  # Compute the std of the mean"
   ]
  },
  {
   "cell_type": "code",
   "execution_count": 10,
   "metadata": {},
   "outputs": [],
   "source": [
    "plt.plot(t, mn, 'k', lw=3)              # Plot the ERP of condition A\n",
    "plt.plot(t, mn + 2 * sdmn, 'k:', lw=1)  # ... and include the upper CI\n",
    "plt.plot(t, mn - 2 * sdmn, 'k:', lw=1)  # ... and the lower CI\n",
    "plt.xlabel('Time [s]')                     # Label the axes\n",
    "plt.ylabel('Voltage [$\\mu$ V]')\n",
    "plt.title('ERP of condition A')            # ... provide a useful title\n",
    "plt.hlines(0, t[0], t[-1]);"
   ]
  },
  {
   "cell_type": "markdown",
   "metadata": {},
   "source": [
    "### Confidence Intervals for the ERP (Method 2)"
   ]
  },
  {
   "cell_type": "code",
   "execution_count": 12,
   "metadata": {},
   "outputs": [
    {
     "name": "stdout",
     "output_type": "stream",
     "text": [
      "[932 228 301 503 244 870 970 227 237 715 289 928  82 806 941 885 489 473\n",
      " 136  93  33 737 635 900 951 769  23 971 516 635 874 599 815 332  17 289\n",
      " 289 492  28 542 282 550 795 509 848 133 876 861 953 607 141  43 164 688\n",
      " 947 295 835 183 177 986  89 436 476 453 928 376 140 576 749 646 563 132\n",
      " 534 239 544 765 219 955 420  28 148 510 423 859 861 215 742 326 583 374\n",
      "  57 516 592 363 564 104  59 195 829 926 711 324 802 124 375 414  49 292\n",
      " 752 965 597 269 784 359 855 127 345 681 522 576 629 580 675 350 372 316\n",
      " 490 777 566 285 565 816 621 239 886 280 306 593 319 354 795 400 988 874\n",
      " 461  28 373 515 130 250  96 967 492 814 290 636 344 672 579 337 298 731\n",
      " 854 626 764 263 148 948  91 348 774 242 794 583 940 766 604 784 739 947\n",
      " 794 359 830 245 306  71 365 284 991 493 181 651 486 333 410 859 118  94\n",
      " 423 456 675 368 644 284 487 801  20 794 239 752 651  29 517 887 254 158\n",
      " 845 209 365 709 343 868 677 138 820 770 970   2  72 755  41 646  24  20\n",
      " 982 452 708 383 934 647 515 160 627 995  89 871 541 696 870 534 254 791\n",
      " 538  54 169 211 148   5 991 305 891  30 648 869 125 551 910 966 175 449\n",
      " 589 132  42  67 254 853 701 384 176 804 842 545 547 859 135 663  27 423\n",
      " 520 694  37 887 280 780 617 551 678 651 572 224 677 802 135 823 914 232\n",
      " 797 612  22 423 930 604 414 671 669 238 831 912 128 166 675 620 411 296\n",
      " 123 703 433 816 354 504 903 522 991 652  80 473 688 965 513 556  37 720\n",
      " 384 435 728 270 939 607 848 165 196 216 146  90 824 769 970 732  36 863\n",
      "  70 124 216 521 333 606 310 851 645 793 973 935 665  47 441 974 852 624\n",
      " 337 928   6 246 317 531 937 715 643 757 119 221 827 415 300 819 116 819\n",
      " 636 273  47 117 877 177 840 389 452  55 459 985 398 431  79  77 737 787\n",
      " 150 905 320 775 487 716 523 858 613  11 163 234 401 720 645 888 992 636\n",
      "  29 453 114 381 382 310 979 410 946 775 860 517 319 636 582 264 642 541\n",
      " 577 926 826 340 441 987 718 140 497 316 269 235  42 135 839 330 241 425\n",
      " 111 683 362 876 499 408 398 367 373 451 256 138 936 213 587 385 735 749\n",
      " 660 960  24 137 895 176 793 314 217  54 541 483 828 466 624 593 928 556\n",
      "  26  39 138 390 901 995 411 788  29 271 670 794 589 682  53 822 595 421\n",
      " 577 808 732 702 494 398 760  37 913 659 259 111 448 874 252 855 458 408\n",
      " 153 135 163 155 314 740 752 695  44 159 819 885 279 280 349 131 711 788\n",
      " 780 548 646 270 279 852 605 153 973  67 891 280 616 599 391 608 165 762\n",
      " 739 115 105  48 538 519 395 286 926 311 192 948 126 478 993 830 304 996\n",
      " 284 436 769 186 845 143 885 565 122 515 630 142 863 259 731 709 690 593\n",
      "  33 653 584 474 817  14 799 264 410 955   6 905 267 894 482 838 722 810\n",
      " 360 516  17 256 461 509 270 596 764 141 384 460 973 753 115 937 883  94\n",
      " 777 543 744 990 149 994 372 246 535 864 466 389 505  32 280  46 244 944\n",
      " 272  94 444 717 697 913 422 735 959 166 915 576 847 530 872 640 306 543\n",
      " 461 546 154 858 907 815 764 543  97 987 873 816 322 961 823 857 258 830\n",
      " 389 341 890 229 703  84 926 993 894 205 427 496 953 241 272 766 888 662\n",
      " 814 276 561 378  34  37 227  92 814 429 890 979 870 720 566 378 984 690\n",
      " 654 991 640 204 105  23 196 692 622 229 166 717 427 489 655 753 903 212\n",
      " 509 493 837 376 616 289 877 891 760 943 535 272 681 968  49 159 224 461\n",
      " 916  40 605 967 613 160 853 660 786 683 944 668 263 393 663 516 283 715\n",
      " 199  49 130 844 832 426 273 835 404 296 308 715  68 840  93 458 808 626\n",
      " 607 758 138 630 707 543 946 141  58 398 216 624 828 124  26  76 287 657\n",
      " 282 740 803 643 472 654 385 510 648 200   0 624  43  15 563 861 290 380\n",
      " 622 141 737 767  93 567 411  67 180 801 937  20 984  24 878 169 866 446\n",
      " 422 605 546 801 670 998 547  22 345 200 885 940 308 288 302 526 849 438\n",
      " 533  10 323 619 426 581 459 133 238 272 536 235 169 205 842 142 914 520\n",
      " 698 200 999  73 926 724 866 223 447 950 896 817 699 825 991 303 527 663\n",
      " 773 725 418 881  31 841 458  42 445 696 570 634 597 466 894 966 205 514\n",
      " 655 681 578 364 795 232 977 525 464 275 920 748 689 946 195 709 627 580\n",
      " 536 887 965 662 373  15 577 256 858 461 981 718 522 454 279 592 383 725\n",
      " 745 281 740  61 158 318  78 900  97 638  29 133 711 258 974 853 219 854\n",
      " 785 330 589 446  14 902 442 995 166 539]\n"
     ]
    }
   ],
   "source": [
    "# Example: Draw 1000 integers with replacement from [0, 1000)\n",
    "i = np.random.randint(0, ntrials, size=ntrials)\n",
    "print(i)"
   ]
  },
  {
   "cell_type": "code",
   "execution_count": 14,
   "metadata": {},
   "outputs": [],
   "source": [
    "EEG0 = EEGa[i,:]        # Create a resampled EEG.\n",
    "                        # Q: What is the shape of the resampled EEG?"
   ]
  },
  {
   "cell_type": "code",
   "execution_count": 16,
   "metadata": {},
   "outputs": [],
   "source": [
    "ERP0 = EEG0.mean(0)     # Create the resampled ERP\n",
    "                        # Q: What is the difference between the resampled EEG and resampled ERP?\n",
    "                        # Q: What does the resampled ERP look like?"
   ]
  },
  {
   "cell_type": "code",
   "execution_count": 19,
   "metadata": {},
   "outputs": [],
   "source": [
    "N_resample = 3000\n",
    "ERP0 = np.zeros((N_resample, nsamples))\n",
    "for k in arange(0,N_resample):\n",
    "    i = np.random.randint(0, ntrials, size=ntrials);  # Create resampled indices.\n",
    "    EEG0 = EEGa[i,:]                                  # Create a resampled EEG.\n",
    "    ERP0[k,:] = EEG0.mean(0)                          # Create the resampled ERP"
   ]
  },
  {
   "cell_type": "code",
   "execution_count": 20,
   "metadata": {},
   "outputs": [],
   "source": [
    "# Plot some examples.\n",
    "plt.plot(ERP0[0,:]);\n",
    "plt.plot(ERP0[1,:]);"
   ]
  },
  {
   "cell_type": "code",
   "execution_count": 21,
   "metadata": {},
   "outputs": [],
   "source": [
    "ERP0_sorted = np.sort(ERP0,0)             # Sort each column of the resampled ERP\n",
    "ciL = ERP0_sorted[int(0.025*N_resample)]  # Determine the lower CI\n",
    "ciU = ERP0_sorted[int(0.975*N_resample)]  # ... and the upper CI\n",
    "mnA = EEGa.mean(0)                        # Determine the ERP for condition A\n",
    "plot(t, mnA, 'k', lw=3)                   # ... and plot it\n",
    "plot(t, ciL, 'k:')                        # ... and plot the lower CI\n",
    "plot(t, ciU, 'k:')                        # ... and the upper CI\n",
    "hlines(0, 0, 1, 'b')                      # plot a horizontal line at 0\n",
    "plt.xlabel('Time [s]')                    # ... and label the axes\n",
    "plt.ylabel('Voltage');"
   ]
  },
  {
   "cell_type": "markdown",
   "metadata": {},
   "source": [
    "### Comparing ERPs <a class=\"anchor\" id=\"comparing-erps\"></a>"
   ]
  },
  {
   "cell_type": "code",
   "execution_count": 23,
   "metadata": {},
   "outputs": [
    {
     "data": {
      "text/plain": [
       "<matplotlib.legend.Legend at 0x1192f8400>"
      ]
     },
     "execution_count": 23,
     "metadata": {},
     "output_type": "execute_result"
    }
   ],
   "source": [
    "erpA = EEGa.mean(0)         # Compute the mean across trials (the ERP)\n",
    "sdA  = EEGa.std(0)          # Compute the sd across trials \n",
    "sdmnA= sdA / sqrt(ntrials)  # Compute the s.d.m.n\n",
    "\n",
    "erpB = EEGb.mean(0)         # Compute the mean across trials (the ERP)\n",
    "sdB  = EEGb.std(0)          # Compute the sd across trials \n",
    "sdmnB= sdB / sqrt(ntrials)  # Compute the s.d.m.n\n",
    "\n",
    "plt.plot(t, erpA, 'r', lw=3, label='condition A')  # Plot the ERP of condition A\n",
    "plt.plot(t, erpA + 2 * sdmnA, 'r:', lw=1)           # ... and include the upper CI\n",
    "plt.plot(t, erpA - 2 * sdmnA, 'r:', lw=1)           # ... and the lower CI\n",
    "\n",
    "plt.plot(t, erpB, 'b', lw=3, label='condition B')  # Plot the ERP of condition B\n",
    "plt.plot(t, erpB + 2 * sdmnB, 'b:', lw=1)           # ... and include the upper CI\n",
    "plt.plot(t, erpB - 2 * sdmnB, 'b:', lw=1)           # ... and the lower CI\n",
    "\n",
    "plt.title('ERP of conditions A and B')\n",
    "legend()"
   ]
  },
  {
   "cell_type": "markdown",
   "metadata": {},
   "source": [
    "### A Bootstrap Test to Compare ERPs <a id=\"bootstrap\"></a>"
   ]
  },
  {
   "cell_type": "code",
   "execution_count": 25,
   "metadata": {},
   "outputs": [
    {
     "name": "stdout",
     "output_type": "stream",
     "text": [
      "stat = 0.2884\n"
     ]
    }
   ],
   "source": [
    "mnA = np.mean(EEGa,0)          # Determine ERP for condition A\n",
    "mnB = np.mean(EEGb,0)          # Determine ERP for condition B\n",
    "mnD = mnA - mnB                # Compute the differenced ERP\n",
    "stat = np.max(np.abs(mnD))     # Compute the statistic\n",
    "print('stat = {:.4f}'.format(stat))"
   ]
  },
  {
   "cell_type": "code",
   "execution_count": 26,
   "metadata": {},
   "outputs": [],
   "source": [
    "EEG = np.vstack((EEGa, EEGb))  # Step 1. Merge EEG data from all trials\n",
    "np.random.seed(123)            # Fix seed for reproducibility\n",
    "\n",
    "N_resample = 3000;\n",
    "stat0 = np.zeros(N_resample)\n",
    "for k in arange(0,N_resample):\n",
    "    \n",
    "    i = np.random.randint(0, 2*ntrials, size=ntrials);    # Create resampled indices.\n",
    "    EEG0 = EEG[i,:]                                       # Create a resampled EEG.\n",
    "    ERP0_A = EEG0.mean(0)                                 # Create a resampled ERP.\n",
    "    \n",
    "    i = np.random.randint(0, 2*ntrials, size=ntrials);    # Create resampled indices.\n",
    "    EEG0 = EEG[i,:]                                       # Create a resampled EEG.\n",
    "    ERP0_B = EEG0.mean(0)                                 # Create a resampled ERP.\n",
    "    \n",
    "    stat0[k] = np.max(np.abs(ERP0_A - ERP0_B))"
   ]
  },
  {
   "cell_type": "code",
   "execution_count": 29,
   "metadata": {},
   "outputs": [
    {
     "data": {
      "text/plain": [
       "0.006"
      ]
     },
     "execution_count": 29,
     "metadata": {},
     "output_type": "execute_result"
    }
   ],
   "source": [
    "plt.figure()\n",
    "plt.hist(stat0, bins='auto')\n",
    "plt.vlines(stat, 0, 100)\n",
    "np.size(np.where(stat0>stat)) / stat0.size"
   ]
  },
  {
   "cell_type": "code",
   "execution_count": null,
   "metadata": {},
   "outputs": [],
   "source": []
  }
 ],
 "metadata": {
  "kernelspec": {
   "display_name": "Python 3",
   "language": "python",
   "name": "python3"
  },
  "language_info": {
   "codemirror_mode": {
    "name": "ipython",
    "version": 3
   },
   "file_extension": ".py",
   "mimetype": "text/x-python",
   "name": "python",
   "nbconvert_exporter": "python",
   "pygments_lexer": "ipython3",
   "version": "3.6.4"
  }
 },
 "nbformat": 4,
 "nbformat_minor": 2
}
